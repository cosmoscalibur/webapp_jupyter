{
 "cells": [
  {
   "cell_type": "code",
   "execution_count": 1,
   "metadata": {},
   "outputs": [],
   "source": [
    "import io\n",
    "import matplotlib.pyplot as plt\n",
    "import pandas as pd\n",
    "import sklearn as sk\n",
    "import IPython.display as display\n",
    "import ipywidgets as widgets"
   ]
  },
  {
   "cell_type": "code",
   "execution_count": 2,
   "metadata": {},
   "outputs": [],
   "source": [
    "pd.set_option('display.max_rows', None)\n",
    "pd.set_option('display.max_columns', None)\n",
    "pd.set_option('display.width', None)\n",
    "pd.set_option('display.max_colwidth', None)\n",
    "%matplotlib widget"
   ]
  },
  {
   "cell_type": "code",
   "execution_count": 3,
   "metadata": {},
   "outputs": [],
   "source": [
    "file_repr = dict()"
   ]
  },
  {
   "cell_type": "code",
   "execution_count": 4,
   "metadata": {},
   "outputs": [],
   "source": [
    "upload_text = widgets.Label(value=\"Esperando archivo de datos.\")\n",
    "upload_file = widgets.FileUpload(accept=\".csv\", multiple=False)\n",
    "upload_output = widgets.Output()\n",
    "upload_output.clear_output()\n",
    "upload_container = widgets.VBox([upload_text, upload_file, upload_output])\n",
    "\n",
    "def file_detected(value):\n",
    "    if value:\n",
    "        filename = list(upload_file.value.keys())[0]\n",
    "        upload_text.value = f\"Cargado el archivo {filename} ({upload_file.value[filename]['metadata']['size']/1024:0.2f} kB)\"\n",
    "        data_pd = pd.read_csv(io.BytesIO(upload_file.value[filename]['content']))\n",
    "        with upload_output:\n",
    "            print(f\"Creado Pandas DataFrame para {filename}.\")\n",
    "        file_repr.update({\"filename\": filename, \"df\": data_pd})\n",
    "        \n",
    "\n",
    "upload_file.observe(file_detected, names=\"value\")"
   ]
  },
  {
   "cell_type": "code",
   "execution_count": 5,
   "metadata": {},
   "outputs": [],
   "source": [
    "vis_text = widgets.Label(value=\"Selección de acción de visualización\")\n",
    "vis_table_button = widgets.Button(description=\"Mostrar tabla\")\n",
    "vis_fig_button = widgets.Button(description=\"Mostrar gráfico\")\n",
    "vis_hbox = widgets.HBox([vis_table_button, vis_fig_button])\n",
    "vis_html = widgets.HTML()\n",
    "vis_out = widgets.Output()\n",
    "vis_vbox = widgets.VBox([vis_text, vis_hbox, vis_html, vis_out])\n",
    "\n",
    "\n",
    "def on_click_table(button):\n",
    "    vis_out.clear_output()\n",
    "    html_io = io.StringIO()\n",
    "    file_repr[\"df\"].to_html(buf=html_io, classes='table table-striped')\n",
    "    vis_html.value = html_io.getvalue()\n",
    "\n",
    "def on_click_fig(button):\n",
    "    vis_html.value = \"\"\n",
    "    with vis_out:\n",
    "        file_repr[\"df\"].plot(x=\"OrigenLongitud\", y=\"OrigenLatitud\", kind=\"scatter\")\n",
    "\n",
    "vis_table_button.on_click(on_click_table)\n",
    "vis_fig_button.on_click(on_click_fig)"
   ]
  },
  {
   "cell_type": "code",
   "execution_count": 6,
   "metadata": {
    "scrolled": true
   },
   "outputs": [
    {
     "data": {
      "application/vnd.jupyter.widget-view+json": {
       "model_id": "777240fdea494bc7bdb4466252384e16",
       "version_major": 2,
       "version_minor": 0
      },
      "text/plain": [
       "Tab(children=(VBox(children=(Label(value='Esperando archivo de datos.'), FileUpload(value={}, accept='.csv', d…"
      ]
     },
     "metadata": {},
     "output_type": "display_data"
    }
   ],
   "source": [
    "tabs_widget = widgets.Tab()\n",
    "tabs_widget.children = [upload_container, vis_vbox]\n",
    "tabs_widget.set_title(0, \"Carga\")\n",
    "tabs_widget.set_title(1, \"Visualización\")\n",
    "\n",
    "display.display(tabs_widget)"
   ]
  }
 ],
 "metadata": {
  "kernelspec": {
   "display_name": "Python 3",
   "language": "python",
   "name": "python3"
  },
  "language_info": {
   "codemirror_mode": {
    "name": "ipython",
    "version": 3
   },
   "file_extension": ".py",
   "mimetype": "text/x-python",
   "name": "python",
   "nbconvert_exporter": "python",
   "pygments_lexer": "ipython3",
   "version": "3.6.8"
  }
 },
 "nbformat": 4,
 "nbformat_minor": 4
}
